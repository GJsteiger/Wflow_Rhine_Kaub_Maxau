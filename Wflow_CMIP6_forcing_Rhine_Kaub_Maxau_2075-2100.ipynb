{
 "cells": [
  {
   "cell_type": "markdown",
   "metadata": {},
   "source": [
    "![image](https://github.com/eWaterCycle/ewatercycle/raw/main/docs/examples/logo.png)"
   ]
  },
  {
   "cell_type": "markdown",
   "metadata": {},
   "source": [
    "# Generate CMIP6 Wflow forcing in eWaterCycle with ESMValTool, for SSP126, SSP245 and SSP585 scenarios for 2075 - 2100\n",
    "\n",
    "This notebooks shows how to generate CMIP6 forcing data for Wflow model [ESMValTool hydrological recipes](https://docs.esmvaltool.org/en/latest/recipes/recipe_hydrology.html#wflow). More information about data, configuration and installation instructions can be found in the [System setup](https://ewatercycle.readthedocs.io/en/latest/system_setup.html) in the eWaterCycle documentation."
   ]
  },
  {
   "cell_type": "code",
   "execution_count": 1,
   "metadata": {},
   "outputs": [],
   "source": [
    "import logging\n",
    "import warnings\n",
    "from pathlib import Path\n",
    "\n",
    "warnings.filterwarnings(\"ignore\", category=UserWarning)\n",
    "\n",
    "logger = logging.getLogger(\"esmvalcore\")\n",
    "logger.setLevel(logging.WARNING)"
   ]
  },
  {
   "cell_type": "code",
   "execution_count": 2,
   "metadata": {
    "editable": true,
    "slideshow": {
     "slide_type": ""
    },
    "tags": []
   },
   "outputs": [],
   "source": [
    "import xarray as xr\n",
    "from rich import print\n",
    "from datetime import datetime, timedelta\n",
    "import pandas as pd\n",
    "import re\n",
    "import json\n",
    "import logging\n",
    "import warnings\n",
    "from ewatercycle import CFG\n",
    "import ewatercycle.forcing\n",
    "import ewatercycle.models\n",
    "import ewatercycle.parameter_sets\n",
    "import ewatercycle.analysis\n",
    "from ewatercycle.testing.fixtures import rhine_shape\n",
    "\n",
    "\n",
    "warnings.filterwarnings(\"ignore\", category=UserWarning)\n",
    "logging.basicConfig(level=logging.WARN)\n",
    "logger = logging.getLogger(\"esmvalcore\")"
   ]
  },
  {
   "cell_type": "markdown",
   "metadata": {
    "editable": true,
    "slideshow": {
     "slide_type": ""
    },
    "tags": []
   },
   "source": [
    "CMIP forcing for Wflow is created using the ESMValTool recipe. It produces three files of the SSP-Pathways that contain three variables: temperature, precipitation, and potential evapotranspiration. You can set the start and end date, and the region. See [eWaterCycle documentation](https://ewatercycle.readthedocs.io/en/latest/apidocs/ewatercycle.forcing.html#submodules) for more information. "
   ]
  },
  {
   "cell_type": "markdown",
   "metadata": {},
   "source": [
    "To download `wflow_dem.map`, see the [instructions](https://ewatercycle.readthedocs.io/en/latest/system_setup.html#download-example-parameter-sets).\n",
    "To find working CMIP data, using the step_0_select_CMIP_forcing notebook can be used, this notebook creates a json file that stores all working sets for Wflow CMIP forcing. \n",
    "Generate forcing data requires to specify the same start_time and end_time used in the Wflow notebook in the cell below, then specify the working CMIP sets found using the selecting notebook."
   ]
  },
  {
   "cell_type": "code",
   "execution_count": 3,
   "metadata": {},
   "outputs": [],
   "source": [
    "from datetime import datetime, timedelta\n",
    "from dateutil.relativedelta import relativedelta\n",
    "\n",
    "\n",
    "start_time= \"2075-01-01\"    +\"T00:00:00Z\"  # Use the same start_time as in the Wflow notebook\n",
    "end_time=   \"2100-12-31\"    +\"T00:00:00Z\"    # Use the same end_time as in the Wflow notebook\n",
    "\n",
    "ssp126 = {\n",
    "    \"project\": \"CMIP6\",\n",
    "    \"activity\": \"ScenarioMIP\",\n",
    "    \"exp\": \"ssp126\",\n",
    "    \"dataset\": \"MPI-ESM1-2-LR\",\n",
    "    \"ensemble\": \"r10i1p1f1\",\n",
    "    \"grid\": \"*\",\n",
    "}\n",
    "\n",
    "ssp245 = {\n",
    "    \"project\": \"CMIP6\",\n",
    "    \"activity\": \"ScenarioMIP\",\n",
    "    \"exp\": \"ssp245\",\n",
    "    \"dataset\": \"MPI-ESM1-2-LR\",\n",
    "    \"ensemble\": \"r10i1p1f1\",\n",
    "    \"grid\": \"*\",\n",
    "}\n",
    "ssp585 = {\n",
    "    \"project\": \"CMIP6\",\n",
    "    \"activity\": \"ScenarioMIP\",\n",
    "    \"exp\": \"ssp585\",\n",
    "    \"dataset\": \"MPI-ESM1-2-LR\",\n",
    "    \"ensemble\": \"r10i1p1f1\",\n",
    "    \"grid\": \"*\",\n",
    "}\n",
    "\n",
    "\n",
    "# Starting time minus 2 months to create time for model spinup\n",
    "start_date = datetime.strptime(start_time, \"%Y-%m-%dT%H:%M:%SZ\")\n",
    "adjusted_start_time = start_date - relativedelta(months=2)\n",
    "start_time = adjusted_start_time.strftime(\"%Y-%m-%dT%H:%M:%SZ\")"
   ]
  },
  {
   "cell_type": "code",
   "execution_count": 4,
   "metadata": {},
   "outputs": [
    {
     "data": {
      "text/html": [
       "<pre style=\"white-space:pre;overflow-x:auto;line-height:normal;font-family:Menlo,'DejaVu Sans Mono',consolas,'Courier New',monospace\">wflow_forcing_c1 = <span style=\"color: #808000; text-decoration-color: #808000\">start_time</span>=<span style=\"color: #008000; text-decoration-color: #008000\">'2074-11-01T00:00:00Z'</span> <span style=\"color: #808000; text-decoration-color: #808000\">end_time</span>=<span style=\"color: #008000; text-decoration-color: #008000\">'2100-12-31T00:00:00Z'</span> \n",
       "<span style=\"color: #808000; text-decoration-color: #808000\">directory</span>=<span style=\"color: #800080; text-decoration-color: #800080; font-weight: bold\">PosixPath</span><span style=\"font-weight: bold\">(</span><span style=\"color: #008000; text-decoration-color: #008000\">'/home/gsteiger/Wflow </span>\n",
       "<span style=\"color: #008000; text-decoration-color: #008000\">model/esmvaltool_output/ewcrepalrlzmqh_20240614_091935/work/diagnostic/script'</span><span style=\"font-weight: bold\">)</span> \n",
       "<span style=\"color: #808000; text-decoration-color: #808000\">shape</span>=<span style=\"color: #800080; text-decoration-color: #800080; font-weight: bold\">PosixPath</span><span style=\"font-weight: bold\">(</span><span style=\"color: #008000; text-decoration-color: #008000\">'/home/gsteiger/Wflow </span>\n",
       "<span style=\"color: #008000; text-decoration-color: #008000\">model/esmvaltool_output/ewcrepalrlzmqh_20240614_091935/work/diagnostic/script/Rhine/Rhine.shp'</span><span style=\"font-weight: bold\">)</span> <span style=\"color: #808000; text-decoration-color: #808000\">filenames</span>=<span style=\"font-weight: bold\">{}</span> \n",
       "<span style=\"color: #808000; text-decoration-color: #808000\">netcdfinput</span>=<span style=\"color: #008000; text-decoration-color: #008000\">'wflow_MPI-ESM1-2-LR_Rhine_2074_2100.nc'</span> <span style=\"color: #808000; text-decoration-color: #808000\">Precipitation</span>=<span style=\"color: #008000; text-decoration-color: #008000\">'/pr'</span> <span style=\"color: #808000; text-decoration-color: #808000\">EvapoTranspiration</span>=<span style=\"color: #008000; text-decoration-color: #008000\">'/pet'</span> \n",
       "<span style=\"color: #808000; text-decoration-color: #808000\">Temperature</span>=<span style=\"color: #008000; text-decoration-color: #008000\">'/tas'</span> <span style=\"color: #808000; text-decoration-color: #808000\">Inflow</span>=<span style=\"color: #800080; text-decoration-color: #800080; font-style: italic\">None</span>\n",
       "</pre>\n"
      ],
      "text/plain": [
       "wflow_forcing_c1 = \u001b[33mstart_time\u001b[0m=\u001b[32m'2074-11-01T00:00:00Z'\u001b[0m \u001b[33mend_time\u001b[0m=\u001b[32m'2100-12-31T00:00:00Z'\u001b[0m \n",
       "\u001b[33mdirectory\u001b[0m=\u001b[1;35mPosixPath\u001b[0m\u001b[1m(\u001b[0m\u001b[32m'/home/gsteiger/Wflow \u001b[0m\n",
       "\u001b[32mmodel/esmvaltool_output/ewcrepalrlzmqh_20240614_091935/work/diagnostic/script'\u001b[0m\u001b[1m)\u001b[0m \n",
       "\u001b[33mshape\u001b[0m=\u001b[1;35mPosixPath\u001b[0m\u001b[1m(\u001b[0m\u001b[32m'/home/gsteiger/Wflow \u001b[0m\n",
       "\u001b[32mmodel/esmvaltool_output/ewcrepalrlzmqh_20240614_091935/work/diagnostic/script/Rhine/Rhine.shp'\u001b[0m\u001b[1m)\u001b[0m \u001b[33mfilenames\u001b[0m=\u001b[1m{\u001b[0m\u001b[1m}\u001b[0m \n",
       "\u001b[33mnetcdfinput\u001b[0m=\u001b[32m'wflow_MPI-ESM1-2-LR_Rhine_2074_2100.nc'\u001b[0m \u001b[33mPrecipitation\u001b[0m=\u001b[32m'/pr'\u001b[0m \u001b[33mEvapoTranspiration\u001b[0m=\u001b[32m'/pet'\u001b[0m \n",
       "\u001b[33mTemperature\u001b[0m=\u001b[32m'/tas'\u001b[0m \u001b[33mInflow\u001b[0m=\u001b[3;35mNone\u001b[0m\n"
      ]
     },
     "metadata": {},
     "output_type": "display_data"
    },
    {
     "data": {
      "text/html": [
       "<pre style=\"white-space:pre;overflow-x:auto;line-height:normal;font-family:Menlo,'DejaVu Sans Mono',consolas,'Courier New',monospace\">wflow_forcing_c2 = <span style=\"color: #808000; text-decoration-color: #808000\">start_time</span>=<span style=\"color: #008000; text-decoration-color: #008000\">'2074-11-01T00:00:00Z'</span> <span style=\"color: #808000; text-decoration-color: #808000\">end_time</span>=<span style=\"color: #008000; text-decoration-color: #008000\">'2100-12-31T00:00:00Z'</span> \n",
       "<span style=\"color: #808000; text-decoration-color: #808000\">directory</span>=<span style=\"color: #800080; text-decoration-color: #800080; font-weight: bold\">PosixPath</span><span style=\"font-weight: bold\">(</span><span style=\"color: #008000; text-decoration-color: #008000\">'/home/gsteiger/Wflow </span>\n",
       "<span style=\"color: #008000; text-decoration-color: #008000\">model/esmvaltool_output/ewcrep34v9_x7t_20240614_092357/work/diagnostic/script'</span><span style=\"font-weight: bold\">)</span> \n",
       "<span style=\"color: #808000; text-decoration-color: #808000\">shape</span>=<span style=\"color: #800080; text-decoration-color: #800080; font-weight: bold\">PosixPath</span><span style=\"font-weight: bold\">(</span><span style=\"color: #008000; text-decoration-color: #008000\">'/home/gsteiger/Wflow </span>\n",
       "<span style=\"color: #008000; text-decoration-color: #008000\">model/esmvaltool_output/ewcrep34v9_x7t_20240614_092357/work/diagnostic/script/Rhine/Rhine.shp'</span><span style=\"font-weight: bold\">)</span> <span style=\"color: #808000; text-decoration-color: #808000\">filenames</span>=<span style=\"font-weight: bold\">{}</span> \n",
       "<span style=\"color: #808000; text-decoration-color: #808000\">netcdfinput</span>=<span style=\"color: #008000; text-decoration-color: #008000\">'wflow_MPI-ESM1-2-LR_Rhine_2074_2100.nc'</span> <span style=\"color: #808000; text-decoration-color: #808000\">Precipitation</span>=<span style=\"color: #008000; text-decoration-color: #008000\">'/pr'</span> <span style=\"color: #808000; text-decoration-color: #808000\">EvapoTranspiration</span>=<span style=\"color: #008000; text-decoration-color: #008000\">'/pet'</span> \n",
       "<span style=\"color: #808000; text-decoration-color: #808000\">Temperature</span>=<span style=\"color: #008000; text-decoration-color: #008000\">'/tas'</span> <span style=\"color: #808000; text-decoration-color: #808000\">Inflow</span>=<span style=\"color: #800080; text-decoration-color: #800080; font-style: italic\">None</span>\n",
       "</pre>\n"
      ],
      "text/plain": [
       "wflow_forcing_c2 = \u001b[33mstart_time\u001b[0m=\u001b[32m'2074-11-01T00:00:00Z'\u001b[0m \u001b[33mend_time\u001b[0m=\u001b[32m'2100-12-31T00:00:00Z'\u001b[0m \n",
       "\u001b[33mdirectory\u001b[0m=\u001b[1;35mPosixPath\u001b[0m\u001b[1m(\u001b[0m\u001b[32m'/home/gsteiger/Wflow \u001b[0m\n",
       "\u001b[32mmodel/esmvaltool_output/ewcrep34v9_x7t_20240614_092357/work/diagnostic/script'\u001b[0m\u001b[1m)\u001b[0m \n",
       "\u001b[33mshape\u001b[0m=\u001b[1;35mPosixPath\u001b[0m\u001b[1m(\u001b[0m\u001b[32m'/home/gsteiger/Wflow \u001b[0m\n",
       "\u001b[32mmodel/esmvaltool_output/ewcrep34v9_x7t_20240614_092357/work/diagnostic/script/Rhine/Rhine.shp'\u001b[0m\u001b[1m)\u001b[0m \u001b[33mfilenames\u001b[0m=\u001b[1m{\u001b[0m\u001b[1m}\u001b[0m \n",
       "\u001b[33mnetcdfinput\u001b[0m=\u001b[32m'wflow_MPI-ESM1-2-LR_Rhine_2074_2100.nc'\u001b[0m \u001b[33mPrecipitation\u001b[0m=\u001b[32m'/pr'\u001b[0m \u001b[33mEvapoTranspiration\u001b[0m=\u001b[32m'/pet'\u001b[0m \n",
       "\u001b[33mTemperature\u001b[0m=\u001b[32m'/tas'\u001b[0m \u001b[33mInflow\u001b[0m=\u001b[3;35mNone\u001b[0m\n"
      ]
     },
     "metadata": {},
     "output_type": "display_data"
    },
    {
     "data": {
      "text/html": [
       "<pre style=\"white-space:pre;overflow-x:auto;line-height:normal;font-family:Menlo,'DejaVu Sans Mono',consolas,'Courier New',monospace\">wflow_forcing_c3 = <span style=\"color: #808000; text-decoration-color: #808000\">start_time</span>=<span style=\"color: #008000; text-decoration-color: #008000\">'2074-11-01T00:00:00Z'</span> <span style=\"color: #808000; text-decoration-color: #808000\">end_time</span>=<span style=\"color: #008000; text-decoration-color: #008000\">'2100-12-31T00:00:00Z'</span> \n",
       "<span style=\"color: #808000; text-decoration-color: #808000\">directory</span>=<span style=\"color: #800080; text-decoration-color: #800080; font-weight: bold\">PosixPath</span><span style=\"font-weight: bold\">(</span><span style=\"color: #008000; text-decoration-color: #008000\">'/home/gsteiger/Wflow </span>\n",
       "<span style=\"color: #008000; text-decoration-color: #008000\">model/esmvaltool_output/ewcrepolofk9o2_20240614_092610/work/diagnostic/script'</span><span style=\"font-weight: bold\">)</span> \n",
       "<span style=\"color: #808000; text-decoration-color: #808000\">shape</span>=<span style=\"color: #800080; text-decoration-color: #800080; font-weight: bold\">PosixPath</span><span style=\"font-weight: bold\">(</span><span style=\"color: #008000; text-decoration-color: #008000\">'/home/gsteiger/Wflow </span>\n",
       "<span style=\"color: #008000; text-decoration-color: #008000\">model/esmvaltool_output/ewcrepolofk9o2_20240614_092610/work/diagnostic/script/Rhine/Rhine.shp'</span><span style=\"font-weight: bold\">)</span> <span style=\"color: #808000; text-decoration-color: #808000\">filenames</span>=<span style=\"font-weight: bold\">{}</span> \n",
       "<span style=\"color: #808000; text-decoration-color: #808000\">netcdfinput</span>=<span style=\"color: #008000; text-decoration-color: #008000\">'wflow_MPI-ESM1-2-LR_Rhine_2074_2100.nc'</span> <span style=\"color: #808000; text-decoration-color: #808000\">Precipitation</span>=<span style=\"color: #008000; text-decoration-color: #008000\">'/pr'</span> <span style=\"color: #808000; text-decoration-color: #808000\">EvapoTranspiration</span>=<span style=\"color: #008000; text-decoration-color: #008000\">'/pet'</span> \n",
       "<span style=\"color: #808000; text-decoration-color: #808000\">Temperature</span>=<span style=\"color: #008000; text-decoration-color: #008000\">'/tas'</span> <span style=\"color: #808000; text-decoration-color: #808000\">Inflow</span>=<span style=\"color: #800080; text-decoration-color: #800080; font-style: italic\">None</span>\n",
       "</pre>\n"
      ],
      "text/plain": [
       "wflow_forcing_c3 = \u001b[33mstart_time\u001b[0m=\u001b[32m'2074-11-01T00:00:00Z'\u001b[0m \u001b[33mend_time\u001b[0m=\u001b[32m'2100-12-31T00:00:00Z'\u001b[0m \n",
       "\u001b[33mdirectory\u001b[0m=\u001b[1;35mPosixPath\u001b[0m\u001b[1m(\u001b[0m\u001b[32m'/home/gsteiger/Wflow \u001b[0m\n",
       "\u001b[32mmodel/esmvaltool_output/ewcrepolofk9o2_20240614_092610/work/diagnostic/script'\u001b[0m\u001b[1m)\u001b[0m \n",
       "\u001b[33mshape\u001b[0m=\u001b[1;35mPosixPath\u001b[0m\u001b[1m(\u001b[0m\u001b[32m'/home/gsteiger/Wflow \u001b[0m\n",
       "\u001b[32mmodel/esmvaltool_output/ewcrepolofk9o2_20240614_092610/work/diagnostic/script/Rhine/Rhine.shp'\u001b[0m\u001b[1m)\u001b[0m \u001b[33mfilenames\u001b[0m=\u001b[1m{\u001b[0m\u001b[1m}\u001b[0m \n",
       "\u001b[33mnetcdfinput\u001b[0m=\u001b[32m'wflow_MPI-ESM1-2-LR_Rhine_2074_2100.nc'\u001b[0m \u001b[33mPrecipitation\u001b[0m=\u001b[32m'/pr'\u001b[0m \u001b[33mEvapoTranspiration\u001b[0m=\u001b[32m'/pet'\u001b[0m \n",
       "\u001b[33mTemperature\u001b[0m=\u001b[32m'/tas'\u001b[0m \u001b[33mInflow\u001b[0m=\u001b[3;35mNone\u001b[0m\n"
      ]
     },
     "metadata": {},
     "output_type": "display_data"
    },
    {
     "data": {
      "text/html": [
       "<pre style=\"white-space:pre;overflow-x:auto;line-height:normal;font-family:Menlo,'DejaVu Sans Mono',consolas,'Courier New',monospace\"><span style=\"color: #800080; text-decoration-color: #800080\">/home/gsteiger/</span><span style=\"color: #ff00ff; text-decoration-color: #ff00ff\">Wflow</span> model/esmvaltool_output/ewcrepalrlzmqh_20240614_091935/work/diagnostic/script\n",
       "</pre>\n"
      ],
      "text/plain": [
       "\u001b[35m/home/gsteiger/\u001b[0m\u001b[95mWflow\u001b[0m model/esmvaltool_output/ewcrepalrlzmqh_20240614_091935/work/diagnostic/script\n"
      ]
     },
     "metadata": {},
     "output_type": "display_data"
    },
    {
     "data": {
      "text/html": [
       "<pre style=\"white-space:pre;overflow-x:auto;line-height:normal;font-family:Menlo,'DejaVu Sans Mono',consolas,'Courier New',monospace\"><span style=\"color: #800080; text-decoration-color: #800080\">/home/gsteiger/</span><span style=\"color: #ff00ff; text-decoration-color: #ff00ff\">Wflow</span> model/esmvaltool_output/ewcrep34v9_x7t_20240614_092357/work/diagnostic/script\n",
       "</pre>\n"
      ],
      "text/plain": [
       "\u001b[35m/home/gsteiger/\u001b[0m\u001b[95mWflow\u001b[0m model/esmvaltool_output/ewcrep34v9_x7t_20240614_092357/work/diagnostic/script\n"
      ]
     },
     "metadata": {},
     "output_type": "display_data"
    },
    {
     "data": {
      "text/html": [
       "<pre style=\"white-space:pre;overflow-x:auto;line-height:normal;font-family:Menlo,'DejaVu Sans Mono',consolas,'Courier New',monospace\"><span style=\"color: #800080; text-decoration-color: #800080\">/home/gsteiger/</span><span style=\"color: #ff00ff; text-decoration-color: #ff00ff\">Wflow</span> model/esmvaltool_output/ewcrepolofk9o2_20240614_092610/work/diagnostic/script\n",
       "</pre>\n"
      ],
      "text/plain": [
       "\u001b[35m/home/gsteiger/\u001b[0m\u001b[95mWflow\u001b[0m model/esmvaltool_output/ewcrepolofk9o2_20240614_092610/work/diagnostic/script\n"
      ]
     },
     "metadata": {},
     "output_type": "display_data"
    }
   ],
   "source": [
    "configs = [ssp126, ssp245, ssp585]\n",
    "\n",
    "# List to store forcings and directories\n",
    "wflow_forcings = []\n",
    "directories = []\n",
    "\n",
    "# Generate forcings in a loop\n",
    "for i, config in enumerate(configs, 1):\n",
    "    forcing = ewatercycle.forcing.sources[\"WflowForcing\"].generate(\n",
    "        dataset=config,\n",
    "        start_time=start_time,\n",
    "        end_time=end_time,\n",
    "        shape=\"./Rhine/Rhine.shp\",\n",
    "        dem_file=str(Path().absolute() / \"./wflow_dem.map\"),\n",
    "    )\n",
    "    wflow_forcings.append(forcing)\n",
    "    print(f'wflow_forcing_c{i} = {forcing}')    \n",
    "    \n",
    "    # Extract the directory from the forcing object\n",
    "    directory_output = f\"directory=PosixPath('{forcing.directory}')\"\n",
    "    match = re.search(r\"directory=PosixPath\\('(.+?)'\\)\", directory_output)\n",
    "    \n",
    "    if match:\n",
    "        directories.append(match.group(1))\n",
    "\n",
    "# Printing the directory paths\n",
    "for directory in directories:\n",
    "    print(directory)"
   ]
  },
  {
   "cell_type": "markdown",
   "metadata": {},
   "source": [
    "The file will be named according to the set timespan in the beginning of this notebook"
   ]
  },
  {
   "cell_type": "code",
   "execution_count": 5,
   "metadata": {},
   "outputs": [
    {
     "data": {
      "text/html": [
       "<pre style=\"white-space:pre;overflow-x:auto;line-height:normal;font-family:Menlo,'DejaVu Sans Mono',consolas,'Courier New',monospace\">Data has been written to: forcing_data_CMIP6_wflow_2074-<span style=\"color: #008080; text-decoration-color: #008080; font-weight: bold\">11</span>-01T<span style=\"color: #00ff00; text-decoration-color: #00ff00; font-weight: bold\">00:00:00</span>Z_2100-<span style=\"color: #008080; text-decoration-color: #008080; font-weight: bold\">12</span>-31T<span style=\"color: #00ff00; text-decoration-color: #00ff00; font-weight: bold\">00:00:00</span>Z.json\n",
       "</pre>\n"
      ],
      "text/plain": [
       "Data has been written to: forcing_data_CMIP6_wflow_2074-\u001b[1;36m11\u001b[0m-01T\u001b[1;92m00:00:00\u001b[0mZ_2100-\u001b[1;36m12\u001b[0m-31T\u001b[1;92m00:00:00\u001b[0mZ.json\n"
      ]
     },
     "metadata": {},
     "output_type": "display_data"
    }
   ],
   "source": [
    "# Specify the file path\n",
    "json_file_path = f\"forcing_data_CMIP6_wflow_{start_time}_{end_time}.json\"\n",
    "\n",
    "# Write data to JSON file\n",
    "data = {\n",
    "    \"start_time\": start_time,\n",
    "    \"end_time\": end_time,\n",
    "    \"directories\": directories\n",
    "}\n",
    "\n",
    "with open(json_file_path, 'w') as file:\n",
    "    json.dump(data, file, indent=4)\n",
    "\n",
    "print(f\"Data has been written to: {json_file_path}\")"
   ]
  }
 ],
 "metadata": {
  "kernelspec": {
   "display_name": "Python 3 (ipykernel)",
   "language": "python",
   "name": "python3"
  },
  "language_info": {
   "codemirror_mode": {
    "name": "ipython",
    "version": 3
   },
   "file_extension": ".py",
   "mimetype": "text/x-python",
   "name": "python",
   "nbconvert_exporter": "python",
   "pygments_lexer": "ipython3",
   "version": "3.10.14"
  },
  "metadata": {
   "interpreter": {
    "hash": "a8aa8210cb3d81d2b5c08b30572e78ad19bd30da92b4caf9890388bc07c5e3bf"
   }
  }
 },
 "nbformat": 4,
 "nbformat_minor": 4
}
