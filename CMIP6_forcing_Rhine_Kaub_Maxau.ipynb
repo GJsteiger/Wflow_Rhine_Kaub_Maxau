{
 "cells": [
  {
   "cell_type": "markdown",
   "metadata": {},
   "source": [
    "![image](https://github.com/eWaterCycle/ewatercycle/raw/main/docs/examples/logo.png)"
   ]
  },
  {
   "cell_type": "markdown",
   "metadata": {},
   "source": [
    "# Generate CMIP6 forcing in eWaterCycle with ESMValTool, for SSP126, SSP245 and SSP585 scenarios\n",
    "\n",
    "This notebooks shows how to generate CMIP6 forcing data for Wflow model [ESMValTool hydrological recipes](https://docs.esmvaltool.org/en/latest/recipes/recipe_hydrology.html#wflow). More information about data, configuration and installation instructions can be found in the [System setup](https://ewatercycle.readthedocs.io/en/latest/system_setup.html) in the eWaterCycle documentation."
   ]
  },
  {
   "cell_type": "code",
   "execution_count": 1,
   "metadata": {},
   "outputs": [],
   "source": [
    "import logging\n",
    "import warnings\n",
    "from pathlib import Path\n",
    "\n",
    "warnings.filterwarnings(\"ignore\", category=UserWarning)\n",
    "\n",
    "logger = logging.getLogger(\"esmvalcore\")\n",
    "logger.setLevel(logging.WARNING)"
   ]
  },
  {
   "cell_type": "code",
   "execution_count": 2,
   "metadata": {
    "editable": true,
    "slideshow": {
     "slide_type": ""
    },
    "tags": []
   },
   "outputs": [
    {
     "ename": "OSError",
     "evalue": "[Errno 5] Input/output error: '/mnt/data/observation/grdc/dailies'",
     "output_type": "error",
     "traceback": [
      "\u001b[0;31m---------------------------------------------------------------------------\u001b[0m",
      "\u001b[0;31mOSError\u001b[0m                                   Traceback (most recent call last)",
      "Cell \u001b[0;32mIn[2], line 9\u001b[0m\n\u001b[1;32m      7\u001b[0m \u001b[38;5;28;01mimport\u001b[39;00m \u001b[38;5;21;01mlogging\u001b[39;00m\n\u001b[1;32m      8\u001b[0m \u001b[38;5;28;01mimport\u001b[39;00m \u001b[38;5;21;01mwarnings\u001b[39;00m\n\u001b[0;32m----> 9\u001b[0m \u001b[38;5;28;01mfrom\u001b[39;00m \u001b[38;5;21;01mewatercycle\u001b[39;00m \u001b[38;5;28;01mimport\u001b[39;00m CFG\n\u001b[1;32m     10\u001b[0m \u001b[38;5;28;01mimport\u001b[39;00m \u001b[38;5;21;01mewatercycle\u001b[39;00m\u001b[38;5;21;01m.\u001b[39;00m\u001b[38;5;21;01mforcing\u001b[39;00m\n\u001b[1;32m     11\u001b[0m \u001b[38;5;28;01mimport\u001b[39;00m \u001b[38;5;21;01mewatercycle\u001b[39;00m\u001b[38;5;21;01m.\u001b[39;00m\u001b[38;5;21;01mmodels\u001b[39;00m\n",
      "File \u001b[0;32m/opt/conda/envs/ewatercycle2/lib/python3.10/site-packages/ewatercycle/__init__.py:1\u001b[0m\n\u001b[0;32m----> 1\u001b[0m \u001b[38;5;28;01mfrom\u001b[39;00m \u001b[38;5;21;01m.\u001b[39;00m\u001b[38;5;21;01mconfig\u001b[39;00m \u001b[38;5;28;01mimport\u001b[39;00m CFG\n\u001b[1;32m      2\u001b[0m \u001b[38;5;28;01mfrom\u001b[39;00m \u001b[38;5;21;01m.\u001b[39;00m\u001b[38;5;21;01mversion\u001b[39;00m \u001b[38;5;28;01mimport\u001b[39;00m __version__\n",
      "File \u001b[0;32m/opt/conda/envs/ewatercycle2/lib/python3.10/site-packages/ewatercycle/config/__init__.py:340\u001b[0m\n\u001b[1;32m    338\u001b[0m CFG \u001b[38;5;241m=\u001b[39m Configuration()\n\u001b[1;32m    339\u001b[0m \u001b[38;5;28;01mif\u001b[39;00m USER_CONFIG:\n\u001b[0;32m--> 340\u001b[0m     CFG \u001b[38;5;241m=\u001b[39m \u001b[43mConfiguration\u001b[49m\u001b[38;5;241;43m.\u001b[39;49m\u001b[43m_load_user_config\u001b[49m\u001b[43m(\u001b[49m\u001b[43mUSER_CONFIG\u001b[49m\u001b[43m)\u001b[49m\n",
      "File \u001b[0;32m/opt/conda/envs/ewatercycle2/lib/python3.10/site-packages/ewatercycle/config/__init__.py:218\u001b[0m, in \u001b[0;36mConfiguration._load_user_config\u001b[0;34m(cls, filename)\u001b[0m\n\u001b[1;32m    216\u001b[0m mapping \u001b[38;5;241m=\u001b[39m _read_config_file(filename)\n\u001b[1;32m    217\u001b[0m \u001b[38;5;28;01mtry\u001b[39;00m:\n\u001b[0;32m--> 218\u001b[0m     \u001b[38;5;28;01mreturn\u001b[39;00m \u001b[43mConfiguration\u001b[49m\u001b[43m(\u001b[49m\u001b[43mewatercycle_config\u001b[49m\u001b[38;5;241;43m=\u001b[39;49m\u001b[43mfilename\u001b[49m\u001b[43m,\u001b[49m\u001b[43m \u001b[49m\u001b[38;5;241;43m*\u001b[39;49m\u001b[38;5;241;43m*\u001b[39;49m\u001b[43mmapping\u001b[49m\u001b[43m)\u001b[49m\n\u001b[1;32m    219\u001b[0m \u001b[38;5;28;01mexcept\u001b[39;00m ValidationError \u001b[38;5;28;01mas\u001b[39;00m e:\n\u001b[1;32m    220\u001b[0m     \u001b[38;5;66;03m# Append filename to error locs\u001b[39;00m\n\u001b[1;32m    221\u001b[0m     \u001b[38;5;28;01mfor\u001b[39;00m error \u001b[38;5;129;01min\u001b[39;00m e\u001b[38;5;241m.\u001b[39merrors():\n",
      "    \u001b[0;31m[... skipping hidden 1 frame]\u001b[0m\n",
      "File \u001b[0;32m/opt/conda/envs/ewatercycle2/lib/python3.10/site-packages/pydantic/types.py:1230\u001b[0m, in \u001b[0;36mPathType.validate_directory\u001b[0;34m(path, _)\u001b[0m\n\u001b[1;32m   1228\u001b[0m \u001b[38;5;129m@staticmethod\u001b[39m\n\u001b[1;32m   1229\u001b[0m \u001b[38;5;28;01mdef\u001b[39;00m \u001b[38;5;21mvalidate_directory\u001b[39m(path: Path, _: core_schema\u001b[38;5;241m.\u001b[39mValidationInfo) \u001b[38;5;241m-\u001b[39m\u001b[38;5;241m>\u001b[39m Path:\n\u001b[0;32m-> 1230\u001b[0m     \u001b[38;5;28;01mif\u001b[39;00m \u001b[43mpath\u001b[49m\u001b[38;5;241;43m.\u001b[39;49m\u001b[43mis_dir\u001b[49m\u001b[43m(\u001b[49m\u001b[43m)\u001b[49m:\n\u001b[1;32m   1231\u001b[0m         \u001b[38;5;28;01mreturn\u001b[39;00m path\n\u001b[1;32m   1232\u001b[0m     \u001b[38;5;28;01melse\u001b[39;00m:\n",
      "File \u001b[0;32m/opt/conda/envs/ewatercycle2/lib/python3.10/pathlib.py:1305\u001b[0m, in \u001b[0;36mPath.is_dir\u001b[0;34m(self)\u001b[0m\n\u001b[1;32m   1301\u001b[0m \u001b[38;5;250m\u001b[39m\u001b[38;5;124;03m\"\"\"\u001b[39;00m\n\u001b[1;32m   1302\u001b[0m \u001b[38;5;124;03mWhether this path is a directory.\u001b[39;00m\n\u001b[1;32m   1303\u001b[0m \u001b[38;5;124;03m\"\"\"\u001b[39;00m\n\u001b[1;32m   1304\u001b[0m \u001b[38;5;28;01mtry\u001b[39;00m:\n\u001b[0;32m-> 1305\u001b[0m     \u001b[38;5;28;01mreturn\u001b[39;00m S_ISDIR(\u001b[38;5;28;43mself\u001b[39;49m\u001b[38;5;241;43m.\u001b[39;49m\u001b[43mstat\u001b[49m\u001b[43m(\u001b[49m\u001b[43m)\u001b[49m\u001b[38;5;241m.\u001b[39mst_mode)\n\u001b[1;32m   1306\u001b[0m \u001b[38;5;28;01mexcept\u001b[39;00m \u001b[38;5;167;01mOSError\u001b[39;00m \u001b[38;5;28;01mas\u001b[39;00m e:\n\u001b[1;32m   1307\u001b[0m     \u001b[38;5;28;01mif\u001b[39;00m \u001b[38;5;129;01mnot\u001b[39;00m _ignore_error(e):\n",
      "File \u001b[0;32m/opt/conda/envs/ewatercycle2/lib/python3.10/pathlib.py:1097\u001b[0m, in \u001b[0;36mPath.stat\u001b[0;34m(self, follow_symlinks)\u001b[0m\n\u001b[1;32m   1092\u001b[0m \u001b[38;5;28;01mdef\u001b[39;00m \u001b[38;5;21mstat\u001b[39m(\u001b[38;5;28mself\u001b[39m, \u001b[38;5;241m*\u001b[39m, follow_symlinks\u001b[38;5;241m=\u001b[39m\u001b[38;5;28;01mTrue\u001b[39;00m):\n\u001b[1;32m   1093\u001b[0m \u001b[38;5;250m    \u001b[39m\u001b[38;5;124;03m\"\"\"\u001b[39;00m\n\u001b[1;32m   1094\u001b[0m \u001b[38;5;124;03m    Return the result of the stat() system call on this path, like\u001b[39;00m\n\u001b[1;32m   1095\u001b[0m \u001b[38;5;124;03m    os.stat() does.\u001b[39;00m\n\u001b[1;32m   1096\u001b[0m \u001b[38;5;124;03m    \"\"\"\u001b[39;00m\n\u001b[0;32m-> 1097\u001b[0m     \u001b[38;5;28;01mreturn\u001b[39;00m \u001b[38;5;28;43mself\u001b[39;49m\u001b[38;5;241;43m.\u001b[39;49m\u001b[43m_accessor\u001b[49m\u001b[38;5;241;43m.\u001b[39;49m\u001b[43mstat\u001b[49m\u001b[43m(\u001b[49m\u001b[38;5;28;43mself\u001b[39;49m\u001b[43m,\u001b[49m\u001b[43m \u001b[49m\u001b[43mfollow_symlinks\u001b[49m\u001b[38;5;241;43m=\u001b[39;49m\u001b[43mfollow_symlinks\u001b[49m\u001b[43m)\u001b[49m\n",
      "\u001b[0;31mOSError\u001b[0m: [Errno 5] Input/output error: '/mnt/data/observation/grdc/dailies'"
     ]
    }
   ],
   "source": [
    "import xarray as xr\n",
    "from rich import print\n",
    "from datetime import datetime, timedelta\n",
    "import pandas as pd\n",
    "import re\n",
    "import json\n",
    "import logging\n",
    "import warnings\n",
    "from ewatercycle import CFG\n",
    "import ewatercycle.forcing\n",
    "import ewatercycle.models\n",
    "import ewatercycle.parameter_sets\n",
    "import ewatercycle.analysis\n",
    "from ewatercycle.testing.fixtures import rhine_shape\n",
    "\n",
    "\n",
    "warnings.filterwarnings(\"ignore\", category=UserWarning)\n",
    "logging.basicConfig(level=logging.WARN)\n",
    "logger = logging.getLogger(\"esmvalcore\")\n"
   ]
  },
  {
   "cell_type": "markdown",
   "metadata": {
    "editable": true,
    "slideshow": {
     "slide_type": ""
    },
    "tags": []
   },
   "source": [
    "CMIP forcing for Wflow is created using the ESMValTool recipe. It produces three files of the SSP-Pathways that contain three variables: temperature, precipitation, and potential evapotranspiration. You can set the start and end date, and the region. See [eWaterCycle documentation](https://ewatercycle.readthedocs.io/en/latest/apidocs/ewatercycle.forcing.html#submodules) for more information. "
   ]
  },
  {
   "cell_type": "markdown",
   "metadata": {},
   "source": [
    "To download `wflow_dem.map`, see the [instructions](https://ewatercycle.readthedocs.io/en/latest/system_setup.html#download-example-parameter-sets).\n",
    "To find working CMIP data, using the step_0_select_CMIP_forcing notebook can be used, this notebook creates a json file that stores all working sets for Wflow CMIP forcing. \n",
    "Generate forcing data requires to specify the same start_time and end_time used in the Wflow notebook in the cell below, then specify the working CMIP sets found using the selecting notebook."
   ]
  },
  {
   "cell_type": "code",
   "execution_count": 6,
   "metadata": {},
   "outputs": [
    {
     "data": {
      "text/html": [
       "<pre style=\"white-space:pre;overflow-x:auto;line-height:normal;font-family:Menlo,'DejaVu Sans Mono',consolas,'Courier New',monospace\"><span style=\"color: #008080; text-decoration-color: #008080; font-weight: bold\">2049</span>-<span style=\"color: #008080; text-decoration-color: #008080; font-weight: bold\">11</span>-<span style=\"color: #008080; text-decoration-color: #008080; font-weight: bold\">01</span> <span style=\"color: #00ff00; text-decoration-color: #00ff00; font-weight: bold\">00:00:00</span> <span style=\"color: #008080; text-decoration-color: #008080; font-weight: bold\">2075</span>-<span style=\"color: #008080; text-decoration-color: #008080; font-weight: bold\">12</span>-<span style=\"color: #008080; text-decoration-color: #008080; font-weight: bold\">31</span> <span style=\"color: #00ff00; text-decoration-color: #00ff00; font-weight: bold\">00:00:00</span>\n",
       "</pre>\n"
      ],
      "text/plain": [
       "\u001b[1;36m2049\u001b[0m-\u001b[1;36m11\u001b[0m-\u001b[1;36m01\u001b[0m \u001b[1;92m00:00:00\u001b[0m \u001b[1;36m2075\u001b[0m-\u001b[1;36m12\u001b[0m-\u001b[1;36m31\u001b[0m \u001b[1;92m00:00:00\u001b[0m\n"
      ]
     },
     "metadata": {},
     "output_type": "display_data"
    }
   ],
   "source": [
    "from datetime import datetime, timedelta\n",
    "from dateutil.relativedelta import relativedelta\n",
    "\n",
    "\n",
    "start_time=\"2050-01-01\" # Use the same start_time as in the Wflow notebook\n",
    "end_time=\"2075-12-31\"   # Use the same end_time as in the Wflow notebook\n",
    "start_time+\"T00:00:00Z\", end_time+\"T00:00:00Z\"\n",
    "\n",
    "ssp126 = {\n",
    "    \"project\": \"CMIP6\",\n",
    "    \"activity\": \"ScenarioMIP\",\n",
    "    \"exp\": \"ssp126\",\n",
    "    \"dataset\": \"MPI-ESM1-2-LR\",\n",
    "    \"ensemble\": \"r10i1p1f1\",\n",
    "    \"grid\": \"*\",\n",
    "}\n",
    "\n",
    "ssp245 = {\n",
    "    \"project\": \"CMIP6\",\n",
    "    \"activity\": \"ScenarioMIP\",\n",
    "    \"exp\": \"ssp245\",\n",
    "    \"dataset\": \"MPI-ESM1-2-LR\",\n",
    "    \"ensemble\": \"r10i1p1f1\",\n",
    "    \"grid\": \"*\",\n",
    "}\n",
    "ssp585 = {\n",
    "    \"project\": \"CMIP6\",\n",
    "    \"activity\": \"ScenarioMIP\",\n",
    "    \"exp\": \"ssp585\",\n",
    "    \"dataset\": \"MPI-ESM1-2-LR\",\n",
    "    \"ensemble\": \"r10i1p1f1\",\n",
    "    \"grid\": \"*\",\n",
    "}\n",
    "\n",
    "\n",
    "# Starting time minus 2 months to create time for model spinup\n",
    "start_time = datetime.strptime(start_time, \"%Y-%m-%d\")\n",
    "end_time = datetime.strptime(end_time, \"%Y-%m-%d\")\n",
    "\n",
    "start_time = start_time - relativedelta(months=2)\n",
    "print(start_time, end_time)"
   ]
  },
  {
   "cell_type": "code",
   "execution_count": 15,
   "metadata": {},
   "outputs": [
    {
     "ename": "NameError",
     "evalue": "name 'ewatercycle' is not defined",
     "output_type": "error",
     "traceback": [
      "\u001b[0;31m---------------------------------------------------------------------------\u001b[0m",
      "\u001b[0;31mNameError\u001b[0m                                 Traceback (most recent call last)",
      "Cell \u001b[0;32mIn[15], line 9\u001b[0m\n\u001b[1;32m      7\u001b[0m \u001b[38;5;66;03m# Generate forcings in a loop\u001b[39;00m\n\u001b[1;32m      8\u001b[0m \u001b[38;5;28;01mfor\u001b[39;00m i, config \u001b[38;5;129;01min\u001b[39;00m \u001b[38;5;28menumerate\u001b[39m(configs, \u001b[38;5;241m1\u001b[39m):\n\u001b[0;32m----> 9\u001b[0m     forcing \u001b[38;5;241m=\u001b[39m \u001b[43mewatercycle\u001b[49m\u001b[38;5;241m.\u001b[39mforcing\u001b[38;5;241m.\u001b[39msources[\u001b[38;5;124m\"\u001b[39m\u001b[38;5;124mWflowForcing\u001b[39m\u001b[38;5;124m\"\u001b[39m]\u001b[38;5;241m.\u001b[39mgenerate(\n\u001b[1;32m     10\u001b[0m         dataset\u001b[38;5;241m=\u001b[39mconfig,\n\u001b[1;32m     11\u001b[0m         start_time\u001b[38;5;241m=\u001b[39mstart_time\u001b[38;5;241m+\u001b[39m\u001b[38;5;124m\"\u001b[39m\u001b[38;5;124mT00:00:00Z\u001b[39m\u001b[38;5;124m\"\u001b[39m,\n\u001b[1;32m     12\u001b[0m         end_time\u001b[38;5;241m=\u001b[39mend_time\u001b[38;5;241m+\u001b[39m\u001b[38;5;124m\"\u001b[39m\u001b[38;5;124mT00:00:00Z\u001b[39m\u001b[38;5;124m\"\u001b[39m,\n\u001b[1;32m     13\u001b[0m         shape\u001b[38;5;241m=\u001b[39m\u001b[38;5;124m\"\u001b[39m\u001b[38;5;124m./Rhine/Rhine.shp\u001b[39m\u001b[38;5;124m\"\u001b[39m,\n\u001b[1;32m     14\u001b[0m         dem_file\u001b[38;5;241m=\u001b[39m\u001b[38;5;28mstr\u001b[39m(Path()\u001b[38;5;241m.\u001b[39mabsolute() \u001b[38;5;241m/\u001b[39m \u001b[38;5;124m\"\u001b[39m\u001b[38;5;124m./wflow_dem.map\u001b[39m\u001b[38;5;124m\"\u001b[39m),\n\u001b[1;32m     15\u001b[0m     )\n\u001b[1;32m     16\u001b[0m     wflow_forcings\u001b[38;5;241m.\u001b[39mappend(forcing)\n\u001b[1;32m     17\u001b[0m     \u001b[38;5;28mprint\u001b[39m(\u001b[38;5;124mf\u001b[39m\u001b[38;5;124m'\u001b[39m\u001b[38;5;124mwflow_forcing_c\u001b[39m\u001b[38;5;132;01m{\u001b[39;00mi\u001b[38;5;132;01m}\u001b[39;00m\u001b[38;5;124m = \u001b[39m\u001b[38;5;132;01m{\u001b[39;00mforcing\u001b[38;5;132;01m}\u001b[39;00m\u001b[38;5;124m'\u001b[39m)    \n",
      "\u001b[0;31mNameError\u001b[0m: name 'ewatercycle' is not defined"
     ]
    }
   ],
   "source": [
    "configs = [ssp126, ssp245, ssp585]\n",
    "\n",
    "# List to store forcings and directories\n",
    "wflow_forcings = []\n",
    "directories = []\n",
    "\n",
    "# Generate forcings in a loop\n",
    "for i, config in enumerate(configs, 1):\n",
    "    forcing = ewatercycle.forcing.sources[\"WflowForcing\"].generate(\n",
    "        dataset=config,\n",
    "        start_time=start_time+\"T00:00:00Z\",\n",
    "        end_time=end_time+\"T00:00:00Z\",\n",
    "        shape=\"./Rhine/Rhine.shp\",\n",
    "        dem_file=str(Path().absolute() / \"./wflow_dem.map\"),\n",
    "    )\n",
    "    wflow_forcings.append(forcing)\n",
    "    print(f'wflow_forcing_c{i} = {forcing}')    \n",
    "    \n",
    "    # Extract the directory from the forcing object\n",
    "    directory_output = f\"directory=PosixPath('{forcing.directory}')\"\n",
    "    match = re.search(r\"directory=PosixPath\\('(.+?)'\\)\", directory_output)\n",
    "    \n",
    "    if match:\n",
    "        directories.append(match.group(1))\n",
    "\n",
    "# Printing the directory paths\n",
    "for directory in directories:\n",
    "    print(directory)"
   ]
  },
  {
   "cell_type": "markdown",
   "metadata": {},
   "source": [
    "The file will be named according to the set timespan in the beginning of this notebook"
   ]
  },
  {
   "cell_type": "code",
   "execution_count": 16,
   "metadata": {},
   "outputs": [
    {
     "data": {
      "text/html": [
       "<pre style=\"white-space:pre;overflow-x:auto;line-height:normal;font-family:Menlo,'DejaVu Sans Mono',consolas,'Courier New',monospace\">Data has been written to: forcing_data_CMIP6_wflow_2024-<span style=\"color: #008080; text-decoration-color: #008080; font-weight: bold\">11</span>-<span style=\"color: #008080; text-decoration-color: #008080; font-weight: bold\">01</span> <span style=\"color: #00ff00; text-decoration-color: #00ff00; font-weight: bold\">00:00:00</span>_2050-<span style=\"color: #008080; text-decoration-color: #008080; font-weight: bold\">12</span>-<span style=\"color: #008080; text-decoration-color: #008080; font-weight: bold\">31</span> <span style=\"color: #00ff00; text-decoration-color: #00ff00; font-weight: bold\">00:00:00</span>.json\n",
       "</pre>\n"
      ],
      "text/plain": [
       "Data has been written to: forcing_data_CMIP6_wflow_2024-\u001b[1;36m11\u001b[0m-\u001b[1;36m01\u001b[0m \u001b[1;92m00:00:00\u001b[0m_2050-\u001b[1;36m12\u001b[0m-\u001b[1;36m31\u001b[0m \u001b[1;92m00:00:00\u001b[0m.json\n"
      ]
     },
     "metadata": {},
     "output_type": "display_data"
    }
   ],
   "source": [
    "# Specify the file path\n",
    "json_file_path = f\"forcing_data_CMIP6_wflow_{start_time}_{end_time}.json\"\n",
    "\n",
    "# Write data to JSON file\n",
    "data = {\n",
    "    \"start_time\": start_time,\n",
    "    \"end_time\": end_time,\n",
    "    \"directories\": directories\n",
    "}\n",
    "\n",
    "with open(json_file_path, 'w') as file:\n",
    "    json.dump(data, file, indent=4)\n",
    "\n",
    "print(f\"Data has been written to: {json_file_path}\")"
   ]
  },
  {
   "cell_type": "code",
   "execution_count": null,
   "metadata": {},
   "outputs": [],
   "source": []
  }
 ],
 "metadata": {
  "kernelspec": {
   "display_name": "Python 3 (ipykernel)",
   "language": "python",
   "name": "python3"
  },
  "language_info": {
   "codemirror_mode": {
    "name": "ipython",
    "version": 3
   },
   "file_extension": ".py",
   "mimetype": "text/x-python",
   "name": "python",
   "nbconvert_exporter": "python",
   "pygments_lexer": "ipython3",
   "version": "3.10.14"
  },
  "metadata": {
   "interpreter": {
    "hash": "a8aa8210cb3d81d2b5c08b30572e78ad19bd30da92b4caf9890388bc07c5e3bf"
   }
  }
 },
 "nbformat": 4,
 "nbformat_minor": 4
}
