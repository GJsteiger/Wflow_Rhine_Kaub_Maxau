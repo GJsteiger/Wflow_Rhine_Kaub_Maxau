{
 "cells": [
  {
   "cell_type": "markdown",
   "metadata": {},
   "source": [
    "![image](https://github.com/eWaterCycle/ewatercycle/raw/main/docs/examples/logo.png)"
   ]
  },
  {
   "cell_type": "markdown",
   "metadata": {},
   "source": [
    "# Generate CMIP6 forcing in eWaterCycle with ESMValTool, for SSP126, SSP245 and SSP585 scenarios\n",
    "\n",
    "This notebooks shows how to generate CMIP6 forcing data for Wflow model [ESMValTool hydrological recipes](https://docs.esmvaltool.org/en/latest/recipes/recipe_hydrology.html#wflow). More information about data, configuration and installation instructions can be found in the [System setup](https://ewatercycle.readthedocs.io/en/latest/system_setup.html) in the eWaterCycle documentation."
   ]
  },
  {
   "cell_type": "code",
   "execution_count": 112,
   "metadata": {},
   "outputs": [],
   "source": [
    "import logging\n",
    "import warnings\n",
    "from pathlib import Path\n",
    "\n",
    "warnings.filterwarnings(\"ignore\", category=UserWarning)\n",
    "\n",
    "logger = logging.getLogger(\"esmvalcore\")\n",
    "logger.setLevel(logging.WARNING)"
   ]
  },
  {
   "cell_type": "code",
   "execution_count": 113,
   "metadata": {},
   "outputs": [],
   "source": [
    "import xarray as xr\n",
    "from rich import print\n",
    "\n",
    "import ewatercycle.forcing\n",
    "from datetime import datetime, timedelta\n",
    "import pandas as pd\n",
    "import re\n",
    "import json\n",
    "import ewatercycle.models\n",
    "import ewatercycle.parameter_sets\n",
    "import ewatercycle.analysis\n",
    "import logging\n",
    "import warnings\n",
    "from ewatercycle.testing.fixtures import rhine_shape\n",
    "\n",
    "\n",
    "warnings.filterwarnings(\"ignore\", category=UserWarning)\n",
    "logging.basicConfig(level=logging.WARN)\n",
    "logger = logging.getLogger(\"esmvalcore\")\n"
   ]
  },
  {
   "cell_type": "markdown",
   "metadata": {},
   "source": [
    "CMIP forcing for Wflow is created using the ESMValTool recipe. It produces three files of the SSP-Pathways that contain three variables: temperature, precipitation, and potential evapotranspiration. You can set the start and end date, and the region. See [eWaterCycle documentation](https://ewatercycle.readthedocs.io/en/latest/apidocs/ewatercycle.forcing.html#submodules) for more information. "
   ]
  },
  {
   "cell_type": "markdown",
   "metadata": {},
   "source": [
    "To download `wflow_dem.map`, see the [instructions](https://ewatercycle.readthedocs.io/en/latest/system_setup.html#download-example-parameter-sets).\n",
    "To find working CMIP data, using the step_0_select_CMIP_forcing notebook can be used, this notebook creates a json file that stores all working sets for Wflow CMIP forcing. \n",
    "Generate forcing data requires to specify the same start_time and end_time used in the Wflow notebook in the cell below, then specify the working CMIP sets found using the selecting notebook."
   ]
  },
  {
   "cell_type": "code",
   "execution_count": 114,
   "metadata": {},
   "outputs": [],
   "source": [
    "start_time=\"2090-01-01\" # Use the same start_time as in the Wflow notebook\n",
    "end_time=\"2099-01-31\"   # Use the same end_time as in the Wflow notebook\n",
    "start_time+\"T00:00:00Z\", end_time+\"T00:00:00Z\"\n",
    "\n",
    "ssp126 = {\n",
    "    \"project\": \"CMIP6\",\n",
    "    \"activity\": \"ScenarioMIP\",\n",
    "    \"exp\": \"ssp126\",\n",
    "    \"dataset\": \"MPI-ESM1-2-LR\",\n",
    "    \"ensemble\": \"r10i1p1f1\",\n",
    "    \"grid\": \"*\",\n",
    "}\n",
    "\n",
    "ssp245 = {\n",
    "    \"project\": \"CMIP6\",\n",
    "    \"activity\": \"ScenarioMIP\",\n",
    "    \"exp\": \"ssp245\",\n",
    "    \"dataset\": \"MPI-ESM1-2-LR\",\n",
    "    \"ensemble\": \"r10i1p1f1\",\n",
    "    \"grid\": \"*\",\n",
    "}\n",
    "ssp585 = {\n",
    "    \"project\": \"CMIP6\",\n",
    "    \"activity\": \"ScenarioMIP\",\n",
    "    \"exp\": \"ssp585\",\n",
    "    \"dataset\": \"MPI-ESM1-2-LR\",\n",
    "    \"ensemble\": \"r10i1p1f1\",\n",
    "    \"grid\": \"*\",\n",
    "}"
   ]
  },
  {
   "cell_type": "code",
   "execution_count": 115,
   "metadata": {},
   "outputs": [
    {
     "data": {
      "text/html": [
       "<pre style=\"white-space:pre;overflow-x:auto;line-height:normal;font-family:Menlo,'DejaVu Sans Mono',consolas,'Courier New',monospace\">wflow_forcing_c1 = <span style=\"color: #808000; text-decoration-color: #808000\">start_time</span>=<span style=\"color: #008000; text-decoration-color: #008000\">'2090-01-01T00:00:00Z'</span> <span style=\"color: #808000; text-decoration-color: #808000\">end_time</span>=<span style=\"color: #008000; text-decoration-color: #008000\">'2099-01-31T00:00:00Z'</span> \n",
       "<span style=\"color: #808000; text-decoration-color: #808000\">directory</span>=<span style=\"color: #800080; text-decoration-color: #800080; font-weight: bold\">PosixPath</span><span style=\"font-weight: bold\">(</span><span style=\"color: #008000; text-decoration-color: #008000\">'/home/gsteiger/c4136e9b-2c03-4bda-b242-d9392c42b5c8/esmvaltool_output/ewcrepld1obefo_20240606_</span>\n",
       "<span style=\"color: #008000; text-decoration-color: #008000\">132049/work/diagnostic/script'</span><span style=\"font-weight: bold\">)</span> \n",
       "<span style=\"color: #808000; text-decoration-color: #808000\">shape</span>=<span style=\"color: #800080; text-decoration-color: #800080; font-weight: bold\">PosixPath</span><span style=\"font-weight: bold\">(</span><span style=\"color: #008000; text-decoration-color: #008000\">'/home/gsteiger/c4136e9b-2c03-4bda-b242-d9392c42b5c8/esmvaltool_output/ewcrepld1obefo_20240606_1320</span>\n",
       "<span style=\"color: #008000; text-decoration-color: #008000\">49/work/diagnostic/script/Rhine/Rhine.shp'</span><span style=\"font-weight: bold\">)</span> <span style=\"color: #808000; text-decoration-color: #808000\">filenames</span>=<span style=\"font-weight: bold\">{}</span> <span style=\"color: #808000; text-decoration-color: #808000\">netcdfinput</span>=<span style=\"color: #008000; text-decoration-color: #008000\">'wflow_MPI-ESM1-2-LR_Rhine_2090_2099.nc'</span> \n",
       "<span style=\"color: #808000; text-decoration-color: #808000\">Precipitation</span>=<span style=\"color: #008000; text-decoration-color: #008000\">'/pr'</span> <span style=\"color: #808000; text-decoration-color: #808000\">EvapoTranspiration</span>=<span style=\"color: #008000; text-decoration-color: #008000\">'/pet'</span> <span style=\"color: #808000; text-decoration-color: #808000\">Temperature</span>=<span style=\"color: #008000; text-decoration-color: #008000\">'/tas'</span> <span style=\"color: #808000; text-decoration-color: #808000\">Inflow</span>=<span style=\"color: #800080; text-decoration-color: #800080; font-style: italic\">None</span>\n",
       "</pre>\n"
      ],
      "text/plain": [
       "wflow_forcing_c1 = \u001b[33mstart_time\u001b[0m=\u001b[32m'2090-01-01T00:00:00Z'\u001b[0m \u001b[33mend_time\u001b[0m=\u001b[32m'2099-01-31T00:00:00Z'\u001b[0m \n",
       "\u001b[33mdirectory\u001b[0m=\u001b[1;35mPosixPath\u001b[0m\u001b[1m(\u001b[0m\u001b[32m'/home/gsteiger/c4136e9b-2c03-4bda-b242-d9392c42b5c8/esmvaltool_output/ewcrepld1obefo_20240606_\u001b[0m\n",
       "\u001b[32m132049/work/diagnostic/script'\u001b[0m\u001b[1m)\u001b[0m \n",
       "\u001b[33mshape\u001b[0m=\u001b[1;35mPosixPath\u001b[0m\u001b[1m(\u001b[0m\u001b[32m'/home/gsteiger/c4136e9b-2c03-4bda-b242-d9392c42b5c8/esmvaltool_output/ewcrepld1obefo_20240606_1320\u001b[0m\n",
       "\u001b[32m49/work/diagnostic/script/Rhine/Rhine.shp'\u001b[0m\u001b[1m)\u001b[0m \u001b[33mfilenames\u001b[0m=\u001b[1m{\u001b[0m\u001b[1m}\u001b[0m \u001b[33mnetcdfinput\u001b[0m=\u001b[32m'wflow_MPI-ESM1-2-LR_Rhine_2090_2099.nc'\u001b[0m \n",
       "\u001b[33mPrecipitation\u001b[0m=\u001b[32m'/pr'\u001b[0m \u001b[33mEvapoTranspiration\u001b[0m=\u001b[32m'/pet'\u001b[0m \u001b[33mTemperature\u001b[0m=\u001b[32m'/tas'\u001b[0m \u001b[33mInflow\u001b[0m=\u001b[3;35mNone\u001b[0m\n"
      ]
     },
     "metadata": {},
     "output_type": "display_data"
    },
    {
     "data": {
      "text/html": [
       "<pre style=\"white-space:pre;overflow-x:auto;line-height:normal;font-family:Menlo,'DejaVu Sans Mono',consolas,'Courier New',monospace\">wflow_forcing_c2 = <span style=\"color: #808000; text-decoration-color: #808000\">start_time</span>=<span style=\"color: #008000; text-decoration-color: #008000\">'2090-01-01T00:00:00Z'</span> <span style=\"color: #808000; text-decoration-color: #808000\">end_time</span>=<span style=\"color: #008000; text-decoration-color: #008000\">'2099-01-31T00:00:00Z'</span> \n",
       "<span style=\"color: #808000; text-decoration-color: #808000\">directory</span>=<span style=\"color: #800080; text-decoration-color: #800080; font-weight: bold\">PosixPath</span><span style=\"font-weight: bold\">(</span><span style=\"color: #008000; text-decoration-color: #008000\">'/home/gsteiger/c4136e9b-2c03-4bda-b242-d9392c42b5c8/esmvaltool_output/ewcrepua6g4zbx_20240606_</span>\n",
       "<span style=\"color: #008000; text-decoration-color: #008000\">132140/work/diagnostic/script'</span><span style=\"font-weight: bold\">)</span> \n",
       "<span style=\"color: #808000; text-decoration-color: #808000\">shape</span>=<span style=\"color: #800080; text-decoration-color: #800080; font-weight: bold\">PosixPath</span><span style=\"font-weight: bold\">(</span><span style=\"color: #008000; text-decoration-color: #008000\">'/home/gsteiger/c4136e9b-2c03-4bda-b242-d9392c42b5c8/esmvaltool_output/ewcrepua6g4zbx_20240606_1321</span>\n",
       "<span style=\"color: #008000; text-decoration-color: #008000\">40/work/diagnostic/script/Rhine/Rhine.shp'</span><span style=\"font-weight: bold\">)</span> <span style=\"color: #808000; text-decoration-color: #808000\">filenames</span>=<span style=\"font-weight: bold\">{}</span> <span style=\"color: #808000; text-decoration-color: #808000\">netcdfinput</span>=<span style=\"color: #008000; text-decoration-color: #008000\">'wflow_MPI-ESM1-2-LR_Rhine_2090_2099.nc'</span> \n",
       "<span style=\"color: #808000; text-decoration-color: #808000\">Precipitation</span>=<span style=\"color: #008000; text-decoration-color: #008000\">'/pr'</span> <span style=\"color: #808000; text-decoration-color: #808000\">EvapoTranspiration</span>=<span style=\"color: #008000; text-decoration-color: #008000\">'/pet'</span> <span style=\"color: #808000; text-decoration-color: #808000\">Temperature</span>=<span style=\"color: #008000; text-decoration-color: #008000\">'/tas'</span> <span style=\"color: #808000; text-decoration-color: #808000\">Inflow</span>=<span style=\"color: #800080; text-decoration-color: #800080; font-style: italic\">None</span>\n",
       "</pre>\n"
      ],
      "text/plain": [
       "wflow_forcing_c2 = \u001b[33mstart_time\u001b[0m=\u001b[32m'2090-01-01T00:00:00Z'\u001b[0m \u001b[33mend_time\u001b[0m=\u001b[32m'2099-01-31T00:00:00Z'\u001b[0m \n",
       "\u001b[33mdirectory\u001b[0m=\u001b[1;35mPosixPath\u001b[0m\u001b[1m(\u001b[0m\u001b[32m'/home/gsteiger/c4136e9b-2c03-4bda-b242-d9392c42b5c8/esmvaltool_output/ewcrepua6g4zbx_20240606_\u001b[0m\n",
       "\u001b[32m132140/work/diagnostic/script'\u001b[0m\u001b[1m)\u001b[0m \n",
       "\u001b[33mshape\u001b[0m=\u001b[1;35mPosixPath\u001b[0m\u001b[1m(\u001b[0m\u001b[32m'/home/gsteiger/c4136e9b-2c03-4bda-b242-d9392c42b5c8/esmvaltool_output/ewcrepua6g4zbx_20240606_1321\u001b[0m\n",
       "\u001b[32m40/work/diagnostic/script/Rhine/Rhine.shp'\u001b[0m\u001b[1m)\u001b[0m \u001b[33mfilenames\u001b[0m=\u001b[1m{\u001b[0m\u001b[1m}\u001b[0m \u001b[33mnetcdfinput\u001b[0m=\u001b[32m'wflow_MPI-ESM1-2-LR_Rhine_2090_2099.nc'\u001b[0m \n",
       "\u001b[33mPrecipitation\u001b[0m=\u001b[32m'/pr'\u001b[0m \u001b[33mEvapoTranspiration\u001b[0m=\u001b[32m'/pet'\u001b[0m \u001b[33mTemperature\u001b[0m=\u001b[32m'/tas'\u001b[0m \u001b[33mInflow\u001b[0m=\u001b[3;35mNone\u001b[0m\n"
      ]
     },
     "metadata": {},
     "output_type": "display_data"
    },
    {
     "data": {
      "text/html": [
       "<pre style=\"white-space:pre;overflow-x:auto;line-height:normal;font-family:Menlo,'DejaVu Sans Mono',consolas,'Courier New',monospace\">wflow_forcing_c3 = <span style=\"color: #808000; text-decoration-color: #808000\">start_time</span>=<span style=\"color: #008000; text-decoration-color: #008000\">'2090-01-01T00:00:00Z'</span> <span style=\"color: #808000; text-decoration-color: #808000\">end_time</span>=<span style=\"color: #008000; text-decoration-color: #008000\">'2099-01-31T00:00:00Z'</span> \n",
       "<span style=\"color: #808000; text-decoration-color: #808000\">directory</span>=<span style=\"color: #800080; text-decoration-color: #800080; font-weight: bold\">PosixPath</span><span style=\"font-weight: bold\">(</span><span style=\"color: #008000; text-decoration-color: #008000\">'/home/gsteiger/c4136e9b-2c03-4bda-b242-d9392c42b5c8/esmvaltool_output/ewcrepv_8tqu3y_20240606_</span>\n",
       "<span style=\"color: #008000; text-decoration-color: #008000\">132226/work/diagnostic/script'</span><span style=\"font-weight: bold\">)</span> \n",
       "<span style=\"color: #808000; text-decoration-color: #808000\">shape</span>=<span style=\"color: #800080; text-decoration-color: #800080; font-weight: bold\">PosixPath</span><span style=\"font-weight: bold\">(</span><span style=\"color: #008000; text-decoration-color: #008000\">'/home/gsteiger/c4136e9b-2c03-4bda-b242-d9392c42b5c8/esmvaltool_output/ewcrepv_8tqu3y_20240606_1322</span>\n",
       "<span style=\"color: #008000; text-decoration-color: #008000\">26/work/diagnostic/script/Rhine/Rhine.shp'</span><span style=\"font-weight: bold\">)</span> <span style=\"color: #808000; text-decoration-color: #808000\">filenames</span>=<span style=\"font-weight: bold\">{}</span> <span style=\"color: #808000; text-decoration-color: #808000\">netcdfinput</span>=<span style=\"color: #008000; text-decoration-color: #008000\">'wflow_MPI-ESM1-2-LR_Rhine_2090_2099.nc'</span> \n",
       "<span style=\"color: #808000; text-decoration-color: #808000\">Precipitation</span>=<span style=\"color: #008000; text-decoration-color: #008000\">'/pr'</span> <span style=\"color: #808000; text-decoration-color: #808000\">EvapoTranspiration</span>=<span style=\"color: #008000; text-decoration-color: #008000\">'/pet'</span> <span style=\"color: #808000; text-decoration-color: #808000\">Temperature</span>=<span style=\"color: #008000; text-decoration-color: #008000\">'/tas'</span> <span style=\"color: #808000; text-decoration-color: #808000\">Inflow</span>=<span style=\"color: #800080; text-decoration-color: #800080; font-style: italic\">None</span>\n",
       "</pre>\n"
      ],
      "text/plain": [
       "wflow_forcing_c3 = \u001b[33mstart_time\u001b[0m=\u001b[32m'2090-01-01T00:00:00Z'\u001b[0m \u001b[33mend_time\u001b[0m=\u001b[32m'2099-01-31T00:00:00Z'\u001b[0m \n",
       "\u001b[33mdirectory\u001b[0m=\u001b[1;35mPosixPath\u001b[0m\u001b[1m(\u001b[0m\u001b[32m'/home/gsteiger/c4136e9b-2c03-4bda-b242-d9392c42b5c8/esmvaltool_output/ewcrepv_8tqu3y_20240606_\u001b[0m\n",
       "\u001b[32m132226/work/diagnostic/script'\u001b[0m\u001b[1m)\u001b[0m \n",
       "\u001b[33mshape\u001b[0m=\u001b[1;35mPosixPath\u001b[0m\u001b[1m(\u001b[0m\u001b[32m'/home/gsteiger/c4136e9b-2c03-4bda-b242-d9392c42b5c8/esmvaltool_output/ewcrepv_8tqu3y_20240606_1322\u001b[0m\n",
       "\u001b[32m26/work/diagnostic/script/Rhine/Rhine.shp'\u001b[0m\u001b[1m)\u001b[0m \u001b[33mfilenames\u001b[0m=\u001b[1m{\u001b[0m\u001b[1m}\u001b[0m \u001b[33mnetcdfinput\u001b[0m=\u001b[32m'wflow_MPI-ESM1-2-LR_Rhine_2090_2099.nc'\u001b[0m \n",
       "\u001b[33mPrecipitation\u001b[0m=\u001b[32m'/pr'\u001b[0m \u001b[33mEvapoTranspiration\u001b[0m=\u001b[32m'/pet'\u001b[0m \u001b[33mTemperature\u001b[0m=\u001b[32m'/tas'\u001b[0m \u001b[33mInflow\u001b[0m=\u001b[3;35mNone\u001b[0m\n"
      ]
     },
     "metadata": {},
     "output_type": "display_data"
    },
    {
     "data": {
      "text/html": [
       "<pre style=\"white-space:pre;overflow-x:auto;line-height:normal;font-family:Menlo,'DejaVu Sans Mono',consolas,'Courier New',monospace\"><span style=\"color: #800080; text-decoration-color: #800080\">/home/gsteiger/c4136e9b-2c03-4bda-b242-d9392c42b5c8/esmvaltool_output/ewcrepld1obefo_20240606_132049/work/diagnosti</span>\n",
       "<span style=\"color: #800080; text-decoration-color: #800080\">c/</span><span style=\"color: #ff00ff; text-decoration-color: #ff00ff\">script</span>\n",
       "</pre>\n"
      ],
      "text/plain": [
       "\u001b[35m/home/gsteiger/c4136e9b-2c03-4bda-b242-d9392c42b5c8/esmvaltool_output/ewcrepld1obefo_20240606_132049/work/diagnosti\u001b[0m\n",
       "\u001b[35mc/\u001b[0m\u001b[95mscript\u001b[0m\n"
      ]
     },
     "metadata": {},
     "output_type": "display_data"
    },
    {
     "data": {
      "text/html": [
       "<pre style=\"white-space:pre;overflow-x:auto;line-height:normal;font-family:Menlo,'DejaVu Sans Mono',consolas,'Courier New',monospace\"><span style=\"color: #800080; text-decoration-color: #800080\">/home/gsteiger/c4136e9b-2c03-4bda-b242-d9392c42b5c8/esmvaltool_output/ewcrepua6g4zbx_20240606_132140/work/diagnosti</span>\n",
       "<span style=\"color: #800080; text-decoration-color: #800080\">c/</span><span style=\"color: #ff00ff; text-decoration-color: #ff00ff\">script</span>\n",
       "</pre>\n"
      ],
      "text/plain": [
       "\u001b[35m/home/gsteiger/c4136e9b-2c03-4bda-b242-d9392c42b5c8/esmvaltool_output/ewcrepua6g4zbx_20240606_132140/work/diagnosti\u001b[0m\n",
       "\u001b[35mc/\u001b[0m\u001b[95mscript\u001b[0m\n"
      ]
     },
     "metadata": {},
     "output_type": "display_data"
    },
    {
     "data": {
      "text/html": [
       "<pre style=\"white-space:pre;overflow-x:auto;line-height:normal;font-family:Menlo,'DejaVu Sans Mono',consolas,'Courier New',monospace\"><span style=\"color: #800080; text-decoration-color: #800080\">/home/gsteiger/c4136e9b-2c03-4bda-b242-d9392c42b5c8/esmvaltool_output/ewcrepv_8tqu3y_20240606_132226/work/diagnosti</span>\n",
       "<span style=\"color: #800080; text-decoration-color: #800080\">c/</span><span style=\"color: #ff00ff; text-decoration-color: #ff00ff\">script</span>\n",
       "</pre>\n"
      ],
      "text/plain": [
       "\u001b[35m/home/gsteiger/c4136e9b-2c03-4bda-b242-d9392c42b5c8/esmvaltool_output/ewcrepv_8tqu3y_20240606_132226/work/diagnosti\u001b[0m\n",
       "\u001b[35mc/\u001b[0m\u001b[95mscript\u001b[0m\n"
      ]
     },
     "metadata": {},
     "output_type": "display_data"
    }
   ],
   "source": [
    "configs = [ssp126, ssp245, ssp585]\n",
    "\n",
    "# List to store forcings and directories\n",
    "wflow_forcings = []\n",
    "directories = []\n",
    "\n",
    "# Generate forcings in a loop\n",
    "for i, config in enumerate(configs, 1):\n",
    "    forcing = ewatercycle.forcing.sources[\"WflowForcing\"].generate(\n",
    "        dataset=config,\n",
    "        start_time=start_time+\"T00:00:00Z\",\n",
    "        end_time=end_time+\"T00:00:00Z\",\n",
    "        shape=\"./Rhine/Rhine.shp\",\n",
    "        dem_file=str(Path().absolute() / \"./wflow_dem.map\"),\n",
    "    )\n",
    "    wflow_forcings.append(forcing)\n",
    "    print(f'wflow_forcing_c{i} = {forcing}')    \n",
    "    \n",
    "    # Extract the directory from the forcing object\n",
    "    directory_output = f\"directory=PosixPath('{forcing.directory}')\"\n",
    "    match = re.search(r\"directory=PosixPath\\('(.+?)'\\)\", directory_output)\n",
    "    \n",
    "    if match:\n",
    "        directories.append(match.group(1))\n",
    "\n",
    "# Printing the directory paths\n",
    "for directory in directories:\n",
    "    print(directory)"
   ]
  },
  {
   "cell_type": "markdown",
   "metadata": {},
   "source": [
    "The file will be named according to the set timespan in the beginning of this notebook"
   ]
  },
  {
   "cell_type": "code",
   "execution_count": 116,
   "metadata": {},
   "outputs": [
    {
     "data": {
      "text/html": [
       "<pre style=\"white-space:pre;overflow-x:auto;line-height:normal;font-family:Menlo,'DejaVu Sans Mono',consolas,'Courier New',monospace\">Data has been written to: forcing_data_CMIP6_wflow_2090-<span style=\"color: #008080; text-decoration-color: #008080; font-weight: bold\">01</span>-01_2099-<span style=\"color: #008080; text-decoration-color: #008080; font-weight: bold\">01-31.j</span>son\n",
       "</pre>\n"
      ],
      "text/plain": [
       "Data has been written to: forcing_data_CMIP6_wflow_2090-\u001b[1;36m01\u001b[0m-01_2099-\u001b[1;36m01-31.j\u001b[0mson\n"
      ]
     },
     "metadata": {},
     "output_type": "display_data"
    }
   ],
   "source": [
    "# Specify the file path\n",
    "json_file_path = f\"forcing_data_CMIP6_wflow_{start_time}_{end_time}.json\"\n",
    "\n",
    "# Write data to JSON file\n",
    "data = {\n",
    "    \"start_time\": start_time,\n",
    "    \"end_time\": end_time,\n",
    "    \"directories\": directories\n",
    "}\n",
    "\n",
    "with open(json_file_path, 'w') as file:\n",
    "    json.dump(data, file, indent=4)\n",
    "\n",
    "print(f\"Data has been written to: {json_file_path}\")"
   ]
  },
  {
   "cell_type": "code",
   "execution_count": null,
   "metadata": {},
   "outputs": [],
   "source": []
  }
 ],
 "metadata": {
  "kernelspec": {
   "display_name": "Python 3 (ipykernel)",
   "language": "python",
   "name": "python3"
  },
  "language_info": {
   "codemirror_mode": {
    "name": "ipython",
    "version": 3
   },
   "file_extension": ".py",
   "mimetype": "text/x-python",
   "name": "python",
   "nbconvert_exporter": "python",
   "pygments_lexer": "ipython3",
   "version": "3.10.14"
  },
  "metadata": {
   "interpreter": {
    "hash": "a8aa8210cb3d81d2b5c08b30572e78ad19bd30da92b4caf9890388bc07c5e3bf"
   }
  }
 },
 "nbformat": 4,
 "nbformat_minor": 4
}
